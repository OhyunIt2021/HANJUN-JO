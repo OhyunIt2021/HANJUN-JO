{
  "nbformat": 4,
  "nbformat_minor": 0,
  "metadata": {
    "colab": {
      "name": "0810.ipynb",
      "provenance": [],
      "collapsed_sections": []
    },
    "kernelspec": {
      "name": "python3",
      "display_name": "Python 3"
    },
    "language_info": {
      "name": "python"
    }
  },
  "cells": [
    {
      "cell_type": "markdown",
      "metadata": {
        "id": "Ozyzh1Oismkp"
      },
      "source": [
        "퍼셉트론"
      ]
    },
    {
      "cell_type": "code",
      "metadata": {
        "id": "UqpnKqYJsl7S"
      },
      "source": [
        "#  And게이트 구현하기\n",
        "#  입력 x1과 x2가 모두 참일 때 1을 출력한다.\n",
        "def AND(x1, x2):\n",
        "  w1, w2, theta = 1, 1, 1.9\n",
        "  value = w1*x1 + w2*x2\n",
        "  if value <= theta:\n",
        "    return 0\n",
        "  elif value > theta:\n",
        "    return 1"
      ],
      "execution_count": null,
      "outputs": []
    },
    {
      "cell_type": "code",
      "metadata": {
        "colab": {
          "base_uri": "https://localhost:8080/"
        },
        "id": "vK5yd_yptmAq",
        "outputId": "c53daa7f-2792-48c5-abc2-fb06d6f115fe"
      },
      "source": [
        "print(AND(1,1))\n",
        "print(AND(0,0))\n",
        "print(AND(1,0))\n",
        "print(AND(0,1))"
      ],
      "execution_count": null,
      "outputs": [
        {
          "output_type": "stream",
          "text": [
            "1\n",
            "0\n",
            "0\n",
            "0\n"
          ],
          "name": "stdout"
        }
      ]
    },
    {
      "cell_type": "code",
      "metadata": {
        "id": "eJxQfBS6t33B"
      },
      "source": [
        "def NAND(x1, x2):\n",
        "  w1, w2, theta = 1, 1, 1.9\n",
        "  value = w1*x1 + w2*x2\n",
        "  if value <= theta:\n",
        "    return 1\n",
        "  elif value > theta:\n",
        "    return 0"
      ],
      "execution_count": null,
      "outputs": []
    },
    {
      "cell_type": "code",
      "metadata": {
        "colab": {
          "base_uri": "https://localhost:8080/"
        },
        "id": "yuvkXRskuq95",
        "outputId": "8a6a1cda-8944-42bb-bddc-232b9b201f03"
      },
      "source": [
        "print(NAND(1,1))\n",
        "print(NAND(0,0))\n",
        "print(NAND(1,0))\n",
        "print(NAND(0,1))"
      ],
      "execution_count": null,
      "outputs": [
        {
          "output_type": "stream",
          "text": [
            "0\n",
            "1\n",
            "1\n",
            "1\n"
          ],
          "name": "stdout"
        }
      ]
    },
    {
      "cell_type": "code",
      "metadata": {
        "id": "YSxlDYi3uvCh"
      },
      "source": [
        "def OR(x1, x2):\n",
        "  w1, w2, theta = 1, 1, 1\n",
        "  value = w1*x1 + w2*x2\n",
        "  if value >= theta:\n",
        "    return 1\n",
        "  elif value < theta:\n",
        "    return 0"
      ],
      "execution_count": null,
      "outputs": []
    },
    {
      "cell_type": "code",
      "metadata": {
        "colab": {
          "base_uri": "https://localhost:8080/"
        },
        "id": "iyhYHZrgvDD6",
        "outputId": "2595e835-f829-4c6f-8e6c-258630dc5482"
      },
      "source": [
        "print(OR(1,1))\n",
        "print(OR(0,0))\n",
        "print(OR(1,0))\n",
        "print(OR(0,1))"
      ],
      "execution_count": null,
      "outputs": [
        {
          "output_type": "stream",
          "text": [
            "1\n",
            "0\n",
            "1\n",
            "1\n"
          ],
          "name": "stdout"
        }
      ]
    },
    {
      "cell_type": "code",
      "metadata": {
        "id": "PGo2Jik9vFDK"
      },
      "source": [
        ""
      ],
      "execution_count": null,
      "outputs": []
    }
  ]
}